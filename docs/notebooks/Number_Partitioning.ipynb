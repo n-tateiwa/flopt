{
 "cells": [
  {
   "cell_type": "markdown",
   "id": "9375a2bb",
   "metadata": {},
   "source": [
    "# Case Studies"
   ]
  },
  {
   "cell_type": "markdown",
   "id": "234bd04f",
   "metadata": {},
   "source": [
    "## Number Partitioning"
   ]
  },
  {
   "cell_type": "code",
   "execution_count": null,
   "id": "da443a69",
   "metadata": {},
   "outputs": [],
   "source": [
    "# list of numbers\n",
    "A = [10, 8, 7, 9]"
   ]
  },
  {
   "cell_type": "code",
   "execution_count": null,
   "id": "2234be8a",
   "metadata": {},
   "outputs": [],
   "source": [
    "import flopt"
   ]
  },
  {
   "cell_type": "code",
   "execution_count": null,
   "id": "b8e0b829",
   "metadata": {},
   "outputs": [],
   "source": [
    "# create variables\n",
    "x = flopt.Variable.array(\"x\", len(A), cat=\"Spin\")\n",
    "\n",
    "# create problem\n",
    "prob = flopt.Problem(\"Number Partitioning\")\n",
    "\n",
    "# set objective function\n",
    "prob += flopt.Dot(x, A) ** 2\n",
    "\n",
    "print(prob)"
   ]
  },
  {
   "cell_type": "markdown",
   "id": "751b6f9f",
   "metadata": {},
   "source": [
    "### Solving using RandomSearch"
   ]
  },
  {
   "cell_type": "code",
   "execution_count": null,
   "id": "f9d8c9b5",
   "metadata": {},
   "outputs": [],
   "source": [
    "# solve until obtain the solution\n",
    "# whose objective value is lower than or equal to 0\n",
    "solver = flopt.Solver(\"RandomSearch\")\n",
    "prob.solve(solver, msg=True, lowerbound=0, timelimit=1)"
   ]
  },
  {
   "cell_type": "code",
   "execution_count": null,
   "id": "7979640c",
   "metadata": {},
   "outputs": [],
   "source": [
    "print(\"x\", flopt.Value(x))"
   ]
  },
  {
   "cell_type": "markdown",
   "id": "84f10e6d",
   "metadata": {},
   "source": [
    "### Solving using LP Search"
   ]
  },
  {
   "cell_type": "code",
   "execution_count": null,
   "id": "fb3b9246",
   "metadata": {},
   "outputs": [],
   "source": [
    "from flopt.convert import linearize\n",
    "\n",
    "linearize(prob)\n",
    "\n",
    "print(prob.show())"
   ]
  },
  {
   "cell_type": "code",
   "execution_count": null,
   "id": "f780d4d6",
   "metadata": {},
   "outputs": [],
   "source": [
    "solver = flopt.Solver(\"auto\")\n",
    "prob.solve(solver, msg=True)"
   ]
  },
  {
   "cell_type": "code",
   "execution_count": null,
   "id": "67721cc9",
   "metadata": {},
   "outputs": [],
   "source": [
    "print(flopt.Value(x))"
   ]
  },
  {
   "cell_type": "markdown",
   "id": "fba4bbb7",
   "metadata": {},
   "source": [
    "### QP"
   ]
  },
  {
   "cell_type": "code",
   "execution_count": null,
   "id": "f529969f",
   "metadata": {},
   "outputs": [],
   "source": [
    "# create variables\n",
    "x = flopt.Variable.array(\"x\", len(A), cat=\"Spin\")\n",
    "\n",
    "# create problem\n",
    "prob = flopt.Problem(\"Number Partitioning\")\n",
    "\n",
    "# set objective function\n",
    "prob += flopt.Dot(x, A) ** 2\n",
    "\n",
    "print(prob)"
   ]
  },
  {
   "cell_type": "code",
   "execution_count": null,
   "id": "196d7a6b",
   "metadata": {},
   "outputs": [],
   "source": [
    "from flopt.convert import binarize\n",
    "\n",
    "binarize(prob)\n",
    "\n",
    "print(prob.show())"
   ]
  },
  {
   "cell_type": "code",
   "execution_count": null,
   "id": "e3a9bb31",
   "metadata": {},
   "outputs": [],
   "source": [
    "from flopt.convert import QpStructure\n",
    "qp = QpStructure.fromFlopt(prob)\n",
    "\n",
    "print(qp.show())"
   ]
  },
  {
   "cell_type": "markdown",
   "id": "cd073454",
   "metadata": {},
   "source": [
    "### Ising"
   ]
  },
  {
   "cell_type": "code",
   "execution_count": null,
   "id": "fd32d275",
   "metadata": {},
   "outputs": [],
   "source": [
    "from flopt.convert import IsingStructure\n",
    "ising = IsingStructure.fromFlopt(prob)\n",
    "\n",
    "print(ising.show())"
   ]
  },
  {
   "cell_type": "markdown",
   "id": "21ce2acf",
   "metadata": {},
   "source": [
    "### Qubo"
   ]
  },
  {
   "cell_type": "code",
   "execution_count": null,
   "id": "0779d014",
   "metadata": {},
   "outputs": [],
   "source": [
    "from flopt.convert import QuboStructure\n",
    "qubo = QuboStructure.fromFlopt(prob)\n",
    "\n",
    "print(qubo.show())"
   ]
  }
 ],
 "metadata": {
  "kernelspec": {
   "display_name": "Python 3 (ipykernel)",
   "language": "python",
   "name": "python3"
  },
  "language_info": {
   "codemirror_mode": {
    "name": "ipython",
    "version": 3
   },
   "file_extension": ".py",
   "mimetype": "text/x-python",
   "name": "python",
   "nbconvert_exporter": "python",
   "pygments_lexer": "ipython3",
   "version": "3.9.13"
  },
  "toc": {
   "base_numbering": 1,
   "nav_menu": {},
   "number_sections": true,
   "sideBar": true,
   "skip_h1_title": false,
   "title_cell": "Table of Contents",
   "title_sidebar": "Contents",
   "toc_cell": false,
   "toc_position": {},
   "toc_section_display": true,
   "toc_window_display": false
  }
 },
 "nbformat": 4,
 "nbformat_minor": 5
}
